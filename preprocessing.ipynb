{
  "nbformat": 4,
  "nbformat_minor": 0,
  "metadata": {
    "colab": {
      "name": "preprocessing.ipynb",
      "provenance": [],
      "collapsed_sections": [],
      "toc_visible": true
    },
    "kernelspec": {
      "name": "python3",
      "display_name": "Python 3"
    },
    "language_info": {
      "name": "python"
    }
  },
  "cells": [
    {
      "cell_type": "markdown",
      "metadata": {
        "id": "VVHi1Jej3-sW"
      },
      "source": [
        "# Import libraries and data\n"
      ]
    },
    {
      "cell_type": "code",
      "metadata": {
        "id": "l9XGS6P93tOZ"
      },
      "source": [
        "import re\n",
        "import torch\n",
        "from torch.utils.data import TensorDataset\n",
        "from collections import Counter"
      ],
      "execution_count": 1,
      "outputs": []
    },
    {
      "cell_type": "code",
      "metadata": {
        "id": "EBvxCXQD4aD-"
      },
      "source": [
        "def read_file(filepath):\n",
        "  with open(filepath) as f:\n",
        "    str_text = f.read()\n",
        "  return str_text"
      ],
      "execution_count": null,
      "outputs": []
    }
  ]
}